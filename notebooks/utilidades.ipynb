{
 "cells": [
  {
   "cell_type": "markdown",
   "metadata": {},
   "source": [
    "# Utilidades \n",
    "Cuaderno en el que definirimops las funciones y las constantes que usaremos en el cuaderno principal"
   ]
  },
  {
   "cell_type": "markdown",
   "metadata": {},
   "source": [
    "## Imports\n",
    "Importaciones necesarias para la ejecución de las celdas"
   ]
  },
  {
   "cell_type": "code",
   "execution_count": 1,
   "metadata": {},
   "outputs": [],
   "source": [
    "import sympy as sp\n",
    "import numpy as np\n",
    "from IPython.display import display, Math, Latex"
   ]
  },
  {
   "cell_type": "markdown",
   "metadata": {},
   "source": [
    "# Datos\n",
    "Constantes y datos para la realización de las pruebas"
   ]
  },
  {
   "cell_type": "code",
   "execution_count": 2,
   "metadata": {},
   "outputs": [],
   "source": [
    "# Datos\n",
    "np_array = np.array([[1, 2, 3], [4, 5, 6], [7, 8, 9]])"
   ]
  },
  {
   "cell_type": "code",
   "execution_count": 17,
   "metadata": {},
   "outputs": [],
   "source": [
    "def convertir_a_sympy(objeto):\n",
    "    \"\"\"\n",
    "    Convierte un objeto a una matriz de SymPy.\n",
    "    ----------\n",
    "    @objeto : array de NumPy, matriz de SymPy o lista\n",
    "    @return : matriz de SymPy\n",
    "    \"\"\"\n",
    "    # Comprobar si el objeto es una instancia de un array de NumPy\n",
    "    if isinstance(objeto, np.ndarray):\n",
    "        # Convertir el array de NumPy a una matriz de SymPy\n",
    "        return sp.Matrix(objeto)\n",
    "    elif isinstance(objeto, list):\n",
    "        # Convertir la lista a una matriz de SymPy\n",
    "        return sp.Matrix(objeto)\n",
    "    # Comprobar si el objeto es una instancia de una matriz de SymPy\n",
    "    elif isinstance(objeto, sp.Matrix):\n",
    "        # No es necesario convertir, ya es una matriz de SymPy\n",
    "        return objeto\n",
    "    # Comprobar si el objeto es una lista\n",
    "    else:\n",
    "        raise TypeError(\n",
    "            \"El objeto proporcionado no es ni un array de NumPy, ni una matriz de SymPy, ni una lista.\")\n",
    "\n",
    "\n",
    "def mostrar_matriz(array):\n",
    "    \"\"\"\n",
    "    Muestra una matriz en formato LaTeX.\n",
    "    \"\"\"\n",
    "    # Configuramos Sympy para usar parentesis en vez de corchetes\n",
    "    sp.init_printing(use_latex='mathjax',\n",
    "                     latex_mode='equation',\n",
    "                     print_builtin=False,\n",
    "                     forecolor='black',\n",
    "                     backcolor='White',\n",
    "                     fontsize='10pt',\n",
    "                     use_unicode=True,\n",
    "                     mat_str='matrix',\n",
    "                     mat_delim='(',)\n",
    "    # Mostramos la matriz\n",
    "    display(array)"
   ]
  },
  {
   "cell_type": "code",
   "execution_count": 15,
   "metadata": {},
   "outputs": [
    {
     "name": "stdout",
     "output_type": "stream",
     "text": [
      "Matrix([[1, 2], [3, 4]])\n"
     ]
    }
   ],
   "source": [
    "# Ejemplo de uso:\n",
    "lista = [[1, 2], [3, 4]]\n",
    "matriz_sympy = convertir_a_sympy(lista)\n",
    "print(matriz_sympy)"
   ]
  },
  {
   "cell_type": "code",
   "execution_count": 18,
   "metadata": {},
   "outputs": [
    {
     "data": {
      "text/latex": [
       "\\begin{equation}\\left(\\begin{matrix}1 & 2\\\\3 & 4\\end{matrix}\\right)\\end{equation}"
      ],
      "text/plain": [
       "⎡1  2⎤\n",
       "⎢    ⎥\n",
       "⎣3  4⎦"
      ]
     },
     "metadata": {},
     "output_type": "display_data"
    }
   ],
   "source": [
    "lista = [[1, 2], [3, 4]]\n",
    "matriz_sympy = convertir_a_sympy(lista)\n",
    "mostrar_matriz(matriz_sympy)"
   ]
  },
  {
   "cell_type": "code",
   "execution_count": null,
   "metadata": {},
   "outputs": [],
   "source": []
  }
 ],
 "metadata": {
  "kernelspec": {
   "display_name": "AlgebraLineal",
   "language": "python",
   "name": "python3"
  },
  "language_info": {
   "codemirror_mode": {
    "name": "ipython",
    "version": 3
   },
   "file_extension": ".py",
   "mimetype": "text/x-python",
   "name": "python",
   "nbconvert_exporter": "python",
   "pygments_lexer": "ipython3",
   "version": "3.11.9"
  }
 },
 "nbformat": 4,
 "nbformat_minor": 2
}
