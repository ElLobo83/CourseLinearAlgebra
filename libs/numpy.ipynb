{
 "cells": [
  {
   "cell_type": "code",
   "execution_count": 27,
   "metadata": {},
   "outputs": [],
   "source": [
    "import numpy as np\n",
    "import sys\n",
    "from IPython.display import display, Math\n",
    "import sympy as sp\n",
    "\n",
    "sys.path.append('../modulos')"
   ]
  },
  {
   "cell_type": "code",
   "execution_count": 9,
   "metadata": {},
   "outputs": [],
   "source": [
    "from visualizacion import mostrar_matriz\n",
    "from matrices import convertir_a_sympy"
   ]
  },
  {
   "cell_type": "markdown",
   "metadata": {},
   "source": [
    "## NumPy: La Biblioteca Fundamental para la Computación Científica en Python\n",
    "\n",
    "**NumPy** es una biblioteca de código abierto para el lenguaje de programación Python que soporta la creación y manipulación de vectores, matrices y estructuras de datos de mayor dimensión. Es ampliamente utilizada en el ámbito de la ciencia de datos, la ingeniería y la investigación científica debido a su eficiencia y facilidad de uso.\n",
    "\n",
    "### Principales Usos de NumPy:\n",
    "- **Operaciones matemáticas**: NumPy ofrece funciones matemáticas avanzadas que operan sobre arrays y matrices de manera eficiente.\n",
    "- **Álgebra lineal**: Proporciona herramientas para realizar operaciones de álgebra lineal como productos de matrices, cálculo de determinantes y sistemas de ecuaciones lineales.\n",
    "- **Transformadas de Fourier**: Permite realizar transformadas de Fourier para analizar frecuencias en señales y otros datos.\n",
    "- **Generación de números aleatorios**: Incluye funciones para generar números aleatorios y realizar operaciones estadísticas.\n",
    "- **Integración con otras bibliotecas**: NumPy es compatible con otras bibliotecas de Python como Pandas, Matplotlib y SciPy, formando la base para la mayoría de las tareas de computación científica.\n",
    "\n",
    "### Métodos y Ejemplos de Uso:"
   ]
  },
  {
   "cell_type": "markdown",
   "metadata": {},
   "source": [
    "- `.array`método para crear una array de numpy"
   ]
  },
  {
   "cell_type": "code",
   "execution_count": 11,
   "metadata": {},
   "outputs": [
    {
     "data": {
      "text/latex": [
       "\\begin{equation}\\left(\\begin{matrix}1\\\\2\\\\3\\end{matrix}\\right)\\end{equation}"
      ],
      "text/plain": [
       "⎡1⎤\n",
       "⎢ ⎥\n",
       "⎢2⎥\n",
       "⎢ ⎥\n",
       "⎣3⎦"
      ]
     },
     "metadata": {},
     "output_type": "display_data"
    },
    {
     "data": {
      "text/latex": [
       "\\begin{equation}\\left(\\begin{matrix}1 & 2 & 3\\\\4 & 5 & 6\\end{matrix}\\right)\\end{equation}"
      ],
      "text/plain": [
       "⎡1  2  3⎤\n",
       "⎢       ⎥\n",
       "⎣4  5  6⎦"
      ]
     },
     "metadata": {},
     "output_type": "display_data"
    }
   ],
   "source": [
    "# Crear un array de una dimensión\n",
    "a = np.array([1, 2, 3])\n",
    "mostrar_matriz(\n",
    "    convertir_a_sympy(a)\n",
    ")\n",
    "\n",
    "\n",
    "# Crear un array de dos dimensiones (matriz)\n",
    "b = np.array([[1, 2, 3], [4, 5, 6]])\n",
    "mostrar_matriz(\n",
    "    convertir_a_sympy(b)\n",
    ")"
   ]
  },
  {
   "cell_type": "markdown",
   "metadata": {},
   "source": [
    "- `.+` operador para sumar arrays, `-` operador para restar arrays."
   ]
  },
  {
   "cell_type": "code",
   "execution_count": 14,
   "metadata": {},
   "outputs": [
    {
     "data": {
      "text/latex": [
       "\\begin{equation}\\left(\\begin{matrix}5 & 7 & 9\\end{matrix}\\right)\\end{equation}"
      ],
      "text/plain": [
       "[5  7  9]"
      ]
     },
     "metadata": {},
     "output_type": "display_data"
    }
   ],
   "source": [
    "# ejemplo suma la resta es similar pero con su operador\n",
    "c = np.array([[1, 2, 3]])\n",
    "d = np.array([[4, 5, 6]])\n",
    "\n",
    "mostrar_matriz(\n",
    "    convertir_a_sympy(c + d)\n",
    ")"
   ]
  },
  {
   "cell_type": "markdown",
   "metadata": {},
   "source": [
    "- `.dot` método para el producto escalar de matrices"
   ]
  },
  {
   "cell_type": "code",
   "execution_count": 15,
   "metadata": {},
   "outputs": [
    {
     "data": {
      "text/latex": [
       "\\begin{equation}\\left(\\begin{matrix}32\\end{matrix}\\right)\\end{equation}"
      ],
      "text/plain": [
       "[32]"
      ]
     },
     "metadata": {},
     "output_type": "display_data"
    }
   ],
   "source": [
    "mostrar_matriz(\n",
    "    convertir_a_sympy(np.dot(c, d.T))\n",
    ")"
   ]
  },
  {
   "cell_type": "markdown",
   "metadata": {},
   "source": [
    "`.sin` metodo para obtener la función seno, `.cos` para obtener la función coseno, `tan`para obtener la tangente."
   ]
  },
  {
   "cell_type": "code",
   "execution_count": 21,
   "metadata": {},
   "outputs": [
    {
     "name": "stdout",
     "output_type": "stream",
     "text": [
      "[0.0000000e+00 1.0000000e+00 1.2246468e-16]\n",
      "[[ 2.71828183  7.3890561  20.08553692]]\n"
     ]
    }
   ],
   "source": [
    "e = np.array([0, np.pi/2, np.pi])\n",
    "print(np.sin(e))\n",
    "\n",
    "# Exponencial\n",
    "print(np.exp(c))"
   ]
  },
  {
   "cell_type": "markdown",
   "metadata": {},
   "source": [
    "Los métodos que hacen referencia al álgebra lineal suelen estar precedidos de .linelg"
   ]
  },
  {
   "cell_type": "markdown",
   "metadata": {},
   "source": [
    "- `linalg.inv`metodo para obtener la inversa de una matriz"
   ]
  },
  {
   "cell_type": "code",
   "execution_count": 22,
   "metadata": {},
   "outputs": [
    {
     "data": {
      "text/latex": [
       "\\begin{equation}\\left(\\begin{matrix}-2.0 & 1.0\\\\1.5 & -0.5\\end{matrix}\\right)\\end{equation}"
      ],
      "text/plain": [
       "⎡-2.0  1.0 ⎤\n",
       "⎢          ⎥\n",
       "⎣1.5   -0.5⎦"
      ]
     },
     "metadata": {},
     "output_type": "display_data"
    }
   ],
   "source": [
    "f = np.array([[1, 2], [3, 4]])\n",
    "f_inv = np.linalg.inv(f)\n",
    "\n",
    "mostrar_matriz(\n",
    "    convertir_a_sympy(f_inv)\n",
    ")"
   ]
  },
  {
   "cell_type": "markdown",
   "metadata": {},
   "source": [
    "- `linalg.eig` metodo para obtener los autovalores u autovectores de una matriz"
   ]
  },
  {
   "cell_type": "code",
   "execution_count": 32,
   "metadata": {},
   "outputs": [
    {
     "name": "stdout",
     "output_type": "stream",
     "text": [
      "[-0.37228132  5.37228132]\n",
      "[[-0.82456484 -0.41597356]\n",
      " [ 0.56576746 -0.90937671]]\n"
     ]
    }
   ],
   "source": [
    "vals, vecs = np.linalg.eig(f)\n",
    "\n",
    "print(vals)\n",
    "print(vecs)"
   ]
  },
  {
   "cell_type": "markdown",
   "metadata": {},
   "source": [
    "NumPy es una herramienta esencial para cualquier persona que trabaje con datos o necesite realizar cálculos numéricos complejos en Python. Su sintaxis intuitiva y su rendimiento optimizado la convierten en una elección popular entre los profesionales y entusiastas de la programación."
   ]
  }
 ],
 "metadata": {
  "kernelspec": {
   "display_name": "AlgebraLineal",
   "language": "python",
   "name": "python3"
  },
  "language_info": {
   "codemirror_mode": {
    "name": "ipython",
    "version": 3
   },
   "file_extension": ".py",
   "mimetype": "text/x-python",
   "name": "python",
   "nbconvert_exporter": "python",
   "pygments_lexer": "ipython3",
   "version": "3.11.9"
  }
 },
 "nbformat": 4,
 "nbformat_minor": 2
}
