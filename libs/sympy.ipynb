{
 "cells": [
  {
   "cell_type": "code",
   "execution_count": 86,
   "metadata": {},
   "outputs": [],
   "source": [
    "import sympy as sp\n",
    "import sys\n",
    "from IPython.display import display, Math\n",
    "\n",
    "sys.path.append('../modulos')"
   ]
  },
  {
   "cell_type": "code",
   "execution_count": 65,
   "metadata": {},
   "outputs": [],
   "source": [
    "from visualizacion import mostrar_matriz"
   ]
  },
  {
   "cell_type": "markdown",
   "metadata": {},
   "source": [
    "# Introducción a SymPy\n",
    "\n",
    "**SymPy** es una biblioteca de Python para matemáticas simbólicas. Permite a los usuarios realizar operaciones matemáticas sin realizar cálculos numéricos, lo que resulta en expresiones matemáticas exactas en lugar de aproximaciones numéricas.\n",
    "\n",
    "## Características Principales\n",
    "\n",
    "- **Manipulación Algebraica**: SymPy puede simplificar expresiones, expandirlas, factorizarlas, y realizar muchas otras operaciones algebraicas.\n",
    "- **Cálculo**: La biblioteca soporta derivadas, integrales, límites, y series infinitas.\n",
    "- **Álgebra Lineal**: SymPy tiene capacidades para trabajar con vectores, matrices, y puede calcular determinantes, inversas, y autovalores.\n",
    "- **Solución de Ecuaciones**: Puede resolver ecuaciones y sistemas de ecuaciones lineales y no lineales.\n",
    "- **Representación Gráfica**: Aunque no es su función principal, SymPy puede generar gráficos de funciones y datos.\n",
    "\n",
    "## ¿Por qué usar SymPy?\n",
    "\n",
    "SymPy es útil para aquellos que necesitan una herramienta poderosa para matemáticas simbólicas que sea gratuita y de código abierto. Es especialmente valiosa en la educación, investigación científica, y en cualquier campo que requiera manipulación exacta de expresiones matemáticas."
   ]
  },
  {
   "cell_type": "code",
   "execution_count": 66,
   "metadata": {},
   "outputs": [],
   "source": [
    "# Creamos un metodo para redeclarar la matriz\n",
    "# despues de realizar la transformacion\n",
    "\n",
    "def redeclarar_matriz():\n",
    "    nueva_matriz = sp.Matrix([[1, 2], [3, 4]])\n",
    "    return nueva_matriz"
   ]
  },
  {
   "cell_type": "markdown",
   "metadata": {},
   "source": [
    "## Matrices en SymPy\n",
    "### Métodos Principales\n",
    "\n",
    "- **`Matrix()`**: Crea una matriz a partir de una lista de listas, un array de NumPy o cualquier objeto iterable."
   ]
  },
  {
   "cell_type": "code",
   "execution_count": 67,
   "metadata": {},
   "outputs": [
    {
     "data": {
      "text/latex": [
       "\\begin{equation}\\left(\\begin{matrix}1 & 2\\\\3 & 4\\end{matrix}\\right)\\end{equation}"
      ],
      "text/plain": [
       "⎡1  2⎤\n",
       "⎢    ⎥\n",
       "⎣3  4⎦"
      ]
     },
     "metadata": {},
     "output_type": "display_data"
    }
   ],
   "source": [
    "# Creamos una matriz de 2x2\n",
    "M = sp.Matrix([[1, 2], [3, 4]])\n",
    "\n",
    "mostrar_matriz(M)"
   ]
  },
  {
   "cell_type": "markdown",
   "metadata": {},
   "source": [
    "- `.shape`: Devuelve las dimensiones de la matriz (filas, columnas)"
   ]
  },
  {
   "cell_type": "code",
   "execution_count": 68,
   "metadata": {},
   "outputs": [
    {
     "data": {
      "text/plain": [
       "(2, 2)"
      ]
     },
     "metadata": {},
     "output_type": "display_data"
    }
   ],
   "source": [
    "dimensiones = M.shape\n",
    "\n",
    "display(dimensiones)"
   ]
  },
  {
   "cell_type": "markdown",
   "metadata": {},
   "source": [
    "- `.row()` / `.col()`: Extrae una fila o columna específica de la matriz."
   ]
  },
  {
   "cell_type": "code",
   "execution_count": 69,
   "metadata": {},
   "outputs": [
    {
     "data": {
      "text/latex": [
       "\\begin{equation}\\left(\\begin{matrix}1 & 2\\end{matrix}\\right)\\end{equation}"
      ],
      "text/plain": [
       "[1  2]"
      ]
     },
     "metadata": {},
     "output_type": "display_data"
    },
    {
     "data": {
      "text/latex": [
       "\\begin{equation}\\left(\\begin{matrix}2\\\\4\\end{matrix}\\right)\\end{equation}"
      ],
      "text/plain": [
       "⎡2⎤\n",
       "⎢ ⎥\n",
       "⎣4⎦"
      ]
     },
     "metadata": {},
     "output_type": "display_data"
    }
   ],
   "source": [
    "fila = M.row(0)\n",
    "columna = M.col(1)\n",
    "\n",
    "mostrar_matriz(fila)\n",
    "\n",
    "mostrar_matriz(columna)"
   ]
  },
  {
   "cell_type": "markdown",
   "metadata": {},
   "source": [
    "- `.row_del()` / `.col_del()`: Elimina una fila o columna específica de la matriz."
   ]
  },
  {
   "cell_type": "code",
   "execution_count": 70,
   "metadata": {},
   "outputs": [
    {
     "data": {
      "text/latex": [
       "\\begin{equation}\\left(\\begin{matrix}3\\end{matrix}\\right)\\end{equation}"
      ],
      "text/plain": [
       "[3]"
      ]
     },
     "metadata": {},
     "output_type": "display_data"
    }
   ],
   "source": [
    "M.row_del(0)\n",
    "M.col_del(1)\n",
    "\n",
    "mostrar_matriz(M)\n",
    "\n",
    "M = redeclarar_matriz()"
   ]
  },
  {
   "cell_type": "markdown",
   "metadata": {},
   "source": [
    "- `.row_insert()` / `.col_insert()`: Inserta una fila o columna en una posición específica."
   ]
  },
  {
   "cell_type": "code",
   "execution_count": 71,
   "metadata": {},
   "outputs": [
    {
     "data": {
      "text/latex": [
       "\\begin{equation}\\left(\\begin{matrix}1 & 2\\\\5 & 6\\\\3 & 4\\end{matrix}\\right)\\end{equation}"
      ],
      "text/plain": [
       "⎡1  2⎤\n",
       "⎢    ⎥\n",
       "⎢5  6⎥\n",
       "⎢    ⎥\n",
       "⎣3  4⎦"
      ]
     },
     "metadata": {},
     "output_type": "display_data"
    }
   ],
   "source": [
    "M = M.row_insert(1, sp.Matrix([[5, 6]]))\n",
    "\n",
    "mostrar_matriz(M)\n",
    "\n",
    "M = redeclarar_matriz()"
   ]
  },
  {
   "cell_type": "markdown",
   "metadata": {},
   "source": [
    "- `.T`: Devuelve la transpuesta de la matriz."
   ]
  },
  {
   "cell_type": "code",
   "execution_count": 75,
   "metadata": {},
   "outputs": [
    {
     "data": {
      "text/plain": [
       "'Matriz original'"
      ]
     },
     "metadata": {},
     "output_type": "display_data"
    },
    {
     "data": {
      "text/latex": [
       "\\begin{equation}\\left(\\begin{matrix}1 & 2\\\\3 & 4\\end{matrix}\\right)\\end{equation}"
      ],
      "text/plain": [
       "⎡1  2⎤\n",
       "⎢    ⎥\n",
       "⎣3  4⎦"
      ]
     },
     "metadata": {},
     "output_type": "display_data"
    },
    {
     "data": {
      "text/plain": [
       "'Matriz transpuesta'"
      ]
     },
     "metadata": {},
     "output_type": "display_data"
    },
    {
     "data": {
      "text/latex": [
       "\\begin{equation}\\left(\\begin{matrix}1 & 3\\\\2 & 4\\end{matrix}\\right)\\end{equation}"
      ],
      "text/plain": [
       "⎡1  3⎤\n",
       "⎢    ⎥\n",
       "⎣2  4⎦"
      ]
     },
     "metadata": {},
     "output_type": "display_data"
    }
   ],
   "source": [
    "display('Matriz original')\n",
    "mostrar_matriz(M)\n",
    "\n",
    "display('Matriz transpuesta')\n",
    "mostrar_matriz(M.T)"
   ]
  },
  {
   "cell_type": "markdown",
   "metadata": {},
   "source": [
    "- `.det()`: Calcula el determinante de la matriz."
   ]
  },
  {
   "cell_type": "code",
   "execution_count": 76,
   "metadata": {},
   "outputs": [
    {
     "data": {
      "text/plain": [
       "'Resultado del determinate de la matriz M'"
      ]
     },
     "metadata": {},
     "output_type": "display_data"
    },
    {
     "data": {
      "text/latex": [
       "\\begin{equation}-2\\end{equation}"
      ],
      "text/plain": [
       "-2"
      ]
     },
     "metadata": {},
     "output_type": "display_data"
    }
   ],
   "source": [
    "display('Resultado del determinate de la matriz M')\n",
    "display(M.det())"
   ]
  },
  {
   "cell_type": "markdown",
   "metadata": {},
   "source": [
    "- `.inv()`: Calcula la inversa de la matriz."
   ]
  },
  {
   "cell_type": "code",
   "execution_count": 77,
   "metadata": {},
   "outputs": [
    {
     "data": {
      "text/plain": [
       "'Resultado de la inversa de la matriz M'"
      ]
     },
     "metadata": {},
     "output_type": "display_data"
    },
    {
     "data": {
      "text/latex": [
       "\\begin{equation}\\left(\\begin{matrix}-2 & 1\\\\\\frac{3}{2} & - \\frac{1}{2}\\end{matrix}\\right)\\end{equation}"
      ],
      "text/plain": [
       "⎡-2    1  ⎤\n",
       "⎢         ⎥\n",
       "⎣3/2  -1/2⎦"
      ]
     },
     "metadata": {},
     "output_type": "display_data"
    }
   ],
   "source": [
    "display('Resultado de la inversa de la matriz M')\n",
    "mostrar_matriz(M.inv())"
   ]
  },
  {
   "cell_type": "markdown",
   "metadata": {},
   "source": [
    "- `.eigenvals()`: Encuentra los autovalores de la matriz."
   ]
  },
  {
   "cell_type": "code",
   "execution_count": 85,
   "metadata": {},
   "outputs": [
    {
     "data": {
      "text/plain": [
       "'Autovalores de la matriz M'"
      ]
     },
     "metadata": {},
     "output_type": "display_data"
    },
    {
     "data": {
      "text/latex": [
       "$\\displaystyle \\left\\{ \\frac{5}{2} - \\frac{\\sqrt{33}}{2} : 1, \\  \\frac{5}{2} + \\frac{\\sqrt{33}}{2} : 1\\right\\}$"
      ],
      "text/plain": [
       "<IPython.core.display.Math object>"
      ]
     },
     "metadata": {},
     "output_type": "display_data"
    }
   ],
   "source": [
    "display('Autovalores de la matriz M')\n",
    "display(Math(sp.latex(M.eigenvals())))"
   ]
  },
  {
   "cell_type": "markdown",
   "metadata": {},
   "source": [
    "- `.eigenvects()`: Encuentra los autovectores y los autovalores correspondientes de la matriz."
   ]
  },
  {
   "cell_type": "code",
   "execution_count": 89,
   "metadata": {},
   "outputs": [
    {
     "data": {
      "text/plain": [
       "'Autovectores de la matriz M'"
      ]
     },
     "metadata": {},
     "output_type": "display_data"
    },
    {
     "data": {
      "text/latex": [
       "$\\displaystyle \\left[ \\left( \\frac{5}{2} - \\frac{\\sqrt{33}}{2}, \\  1, \\  \\left[ \\left[\\begin{matrix}- \\frac{\\sqrt{33}}{6} - \\frac{1}{2}\\\\1\\end{matrix}\\right]\\right]\\right), \\  \\left( \\frac{5}{2} + \\frac{\\sqrt{33}}{2}, \\  1, \\  \\left[ \\left[\\begin{matrix}- \\frac{1}{2} + \\frac{\\sqrt{33}}{6}\\\\1\\end{matrix}\\right]\\right]\\right)\\right]$"
      ],
      "text/plain": [
       "<IPython.core.display.Math object>"
      ]
     },
     "metadata": {},
     "output_type": "display_data"
    }
   ],
   "source": [
    "display('Autovectores de la matriz M')\n",
    "display(Math(sp.latex(M.eigenvects())))"
   ]
  },
  {
   "cell_type": "markdown",
   "metadata": {},
   "source": [
    "- `.diagonalize()`: Diagonaliza la matriz si es posible."
   ]
  },
  {
   "cell_type": "code",
   "execution_count": 90,
   "metadata": {},
   "outputs": [
    {
     "data": {
      "text/plain": [
       "'Matriz diagonalizada'"
      ]
     },
     "metadata": {},
     "output_type": "display_data"
    },
    {
     "data": {
      "text/latex": [
       "$\\displaystyle \\left[\\begin{matrix}\\frac{5}{2} - \\frac{\\sqrt{33}}{2} & 0\\\\0 & \\frac{5}{2} + \\frac{\\sqrt{33}}{2}\\end{matrix}\\right]$"
      ],
      "text/plain": [
       "<IPython.core.display.Math object>"
      ]
     },
     "metadata": {},
     "output_type": "display_data"
    },
    {
     "data": {
      "text/plain": [
       "'Matriz de cambio de base'"
      ]
     },
     "metadata": {},
     "output_type": "display_data"
    },
    {
     "data": {
      "text/latex": [
       "$\\displaystyle \\left[\\begin{matrix}- \\frac{\\sqrt{33}}{6} - \\frac{1}{2} & - \\frac{1}{2} + \\frac{\\sqrt{33}}{6}\\\\1 & 1\\end{matrix}\\right]$"
      ],
      "text/plain": [
       "<IPython.core.display.Math object>"
      ]
     },
     "metadata": {},
     "output_type": "display_data"
    }
   ],
   "source": [
    "P, D = M.diagonalize()\n",
    "\n",
    "display('Matriz diagonalizada')\n",
    "display(Math(sp.latex(D)))\n",
    "display('Matriz de cambio de base')\n",
    "display(Math(sp.latex(P)))"
   ]
  }
 ],
 "metadata": {
  "kernelspec": {
   "display_name": "AlgebraLineal",
   "language": "python",
   "name": "python3"
  },
  "language_info": {
   "codemirror_mode": {
    "name": "ipython",
    "version": 3
   },
   "file_extension": ".py",
   "mimetype": "text/x-python",
   "name": "python",
   "nbconvert_exporter": "python",
   "pygments_lexer": "ipython3",
   "version": "3.11.9"
  }
 },
 "nbformat": 4,
 "nbformat_minor": 2
}
