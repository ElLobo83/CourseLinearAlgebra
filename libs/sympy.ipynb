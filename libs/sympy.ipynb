{
 "cells": [
  {
   "cell_type": "code",
   "execution_count": 4,
   "metadata": {},
   "outputs": [
    {
     "ename": "ModuleNotFoundError",
     "evalue": "No module named 'modules'",
     "output_type": "error",
     "traceback": [
      "\u001b[1;31m---------------------------------------------------------------------------\u001b[0m",
      "\u001b[1;31mModuleNotFoundError\u001b[0m                       Traceback (most recent call last)",
      "Cell \u001b[1;32mIn[4], line 2\u001b[0m\n\u001b[0;32m      1\u001b[0m \u001b[38;5;28;01mimport\u001b[39;00m \u001b[38;5;21;01msympy\u001b[39;00m \u001b[38;5;28;01mas\u001b[39;00m \u001b[38;5;21;01msp\u001b[39;00m\n\u001b[1;32m----> 2\u001b[0m \u001b[38;5;28;01mfrom\u001b[39;00m \u001b[38;5;21;01mmodules\u001b[39;00m\u001b[38;5;21;01m.\u001b[39;00m\u001b[38;5;21;01mvisualizacion\u001b[39;00m \u001b[38;5;28;01mimport\u001b[39;00m mostrar_matriz\n",
      "\u001b[1;31mModuleNotFoundError\u001b[0m: No module named 'modules'"
     ]
    }
   ],
   "source": [
    "import sympy as sp\n",
    "from modules.visualizacion import mostrar_matriz"
   ]
  },
  {
   "cell_type": "markdown",
   "metadata": {},
   "source": [
    "# Introducción a SymPy\n",
    "\n",
    "**SymPy** es una biblioteca de Python para matemáticas simbólicas. Permite a los usuarios realizar operaciones matemáticas sin realizar cálculos numéricos, lo que resulta en expresiones matemáticas exactas en lugar de aproximaciones numéricas.\n",
    "\n",
    "## Características Principales\n",
    "\n",
    "- **Manipulación Algebraica**: SymPy puede simplificar expresiones, expandirlas, factorizarlas, y realizar muchas otras operaciones algebraicas.\n",
    "- **Cálculo**: La biblioteca soporta derivadas, integrales, límites, y series infinitas.\n",
    "- **Álgebra Lineal**: SymPy tiene capacidades para trabajar con vectores, matrices, y puede calcular determinantes, inversas, y autovalores.\n",
    "- **Solución de Ecuaciones**: Puede resolver ecuaciones y sistemas de ecuaciones lineales y no lineales.\n",
    "- **Representación Gráfica**: Aunque no es su función principal, SymPy puede generar gráficos de funciones y datos.\n",
    "\n",
    "## ¿Por qué usar SymPy?\n",
    "\n",
    "SymPy es útil para aquellos que necesitan una herramienta poderosa para matemáticas simbólicas que sea gratuita y de código abierto. Es especialmente valiosa en la educación, investigación científica, y en cualquier campo que requiera manipulación exacta de expresiones matemáticas."
   ]
  },
  {
   "cell_type": "markdown",
   "metadata": {},
   "source": [
    "## Matrices en SymPy\n",
    "### Métodos Principales\n",
    "\n",
    "- **`Matrix()`**: Crea una matriz a partir de una lista de listas, un array de NumPy o cualquier objeto iterable."
   ]
  },
  {
   "cell_type": "code",
   "execution_count": 3,
   "metadata": {},
   "outputs": [],
   "source": [
    "# Creamos una matriz de 2x2\n",
    "M = sp.Matrix([[1, 2], [3, 4]])"
   ]
  },
  {
   "cell_type": "code",
   "execution_count": null,
   "metadata": {},
   "outputs": [],
   "source": []
  }
 ],
 "metadata": {
  "kernelspec": {
   "display_name": "AlgebraLineal",
   "language": "python",
   "name": "python3"
  },
  "language_info": {
   "codemirror_mode": {
    "name": "ipython",
    "version": 3
   },
   "file_extension": ".py",
   "mimetype": "text/x-python",
   "name": "python",
   "nbconvert_exporter": "python",
   "pygments_lexer": "ipython3",
   "version": "3.11.9"
  }
 },
 "nbformat": 4,
 "nbformat_minor": 2
}
